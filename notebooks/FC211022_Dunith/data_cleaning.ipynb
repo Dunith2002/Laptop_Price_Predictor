{
 "cells": [
  {
   "cell_type": "markdown",
   "id": "62acb28c",
   "metadata": {},
   "source": [
    "# Data Cleaning and Preprocessing"
   ]
  },
  {
   "cell_type": "code",
   "execution_count": 492,
   "id": "20620aac",
   "metadata": {},
   "outputs": [],
   "source": [
    "import pandas as pd\n",
    "import seaborn as sns\n",
    "import matplotlib.pyplot as plt\n",
    "import numpy as np"
   ]
  },
  {
   "cell_type": "code",
   "execution_count": 493,
   "id": "3073dd29",
   "metadata": {},
   "outputs": [],
   "source": [
    "df = pd.read_csv('../../data/raw/laptop_data.csv')"
   ]
  },
  {
   "cell_type": "code",
   "execution_count": 494,
   "id": "fd445541",
   "metadata": {},
   "outputs": [
    {
     "data": {
      "text/html": [
       "<div>\n",
       "<style scoped>\n",
       "    .dataframe tbody tr th:only-of-type {\n",
       "        vertical-align: middle;\n",
       "    }\n",
       "\n",
       "    .dataframe tbody tr th {\n",
       "        vertical-align: top;\n",
       "    }\n",
       "\n",
       "    .dataframe thead th {\n",
       "        text-align: right;\n",
       "    }\n",
       "</style>\n",
       "<table border=\"1\" class=\"dataframe\">\n",
       "  <thead>\n",
       "    <tr style=\"text-align: right;\">\n",
       "      <th></th>\n",
       "      <th>Unnamed: 0</th>\n",
       "      <th>Brand</th>\n",
       "      <th>Name</th>\n",
       "      <th>Price</th>\n",
       "      <th>Processor_Name</th>\n",
       "      <th>Processor_Brand</th>\n",
       "      <th>RAM_Expandable</th>\n",
       "      <th>RAM</th>\n",
       "      <th>RAM_TYPE</th>\n",
       "      <th>Ghz</th>\n",
       "      <th>Display_type</th>\n",
       "      <th>Display</th>\n",
       "      <th>GPU</th>\n",
       "      <th>GPU_Brand</th>\n",
       "      <th>SSD</th>\n",
       "      <th>HDD</th>\n",
       "      <th>Adapter</th>\n",
       "      <th>Battery_Life</th>\n",
       "    </tr>\n",
       "  </thead>\n",
       "  <tbody>\n",
       "    <tr>\n",
       "      <th>0</th>\n",
       "      <td>0</td>\n",
       "      <td>HP</td>\n",
       "      <td>HP Chromebook 11A-NA0002MU (2E4N0PA) Laptop (1...</td>\n",
       "      <td>22990</td>\n",
       "      <td>MediaTek Octa-core</td>\n",
       "      <td>MediaTek</td>\n",
       "      <td>Not Expandable</td>\n",
       "      <td>4 GB</td>\n",
       "      <td>DDR4 RAM</td>\n",
       "      <td>2.0 Ghz Processor</td>\n",
       "      <td>LED</td>\n",
       "      <td>11.6</td>\n",
       "      <td>Integrated Graphics</td>\n",
       "      <td>MediaTek</td>\n",
       "      <td>64 GB SSD Storage</td>\n",
       "      <td>No HDD</td>\n",
       "      <td>45</td>\n",
       "      <td>Upto 12 Hrs Battery Life</td>\n",
       "    </tr>\n",
       "    <tr>\n",
       "      <th>1</th>\n",
       "      <td>1</td>\n",
       "      <td>Lenovo</td>\n",
       "      <td>Lenovo Ideapad Slim 3 (82KU017KIN) Laptop (15....</td>\n",
       "      <td>36289</td>\n",
       "      <td>AMD Hexa-Core Ryzen 5</td>\n",
       "      <td>AMD</td>\n",
       "      <td>12 GB Expandable</td>\n",
       "      <td>8 GB</td>\n",
       "      <td>DDR4 RAM</td>\n",
       "      <td>4.0 Ghz Processor</td>\n",
       "      <td>LCD</td>\n",
       "      <td>15.6</td>\n",
       "      <td>Radeon</td>\n",
       "      <td>AMD</td>\n",
       "      <td>512 GB SSD Storage</td>\n",
       "      <td>No HDD</td>\n",
       "      <td>65</td>\n",
       "      <td>Upto 11 Hrs Battery Life</td>\n",
       "    </tr>\n",
       "    <tr>\n",
       "      <th>2</th>\n",
       "      <td>3</td>\n",
       "      <td>Dell</td>\n",
       "      <td>Dell G15-5520 (D560822WIN9B) Laptop (15.6 Inch...</td>\n",
       "      <td>78500</td>\n",
       "      <td>Intel Core i5 (12th Gen)</td>\n",
       "      <td>Intel</td>\n",
       "      <td>32 GB Expandable</td>\n",
       "      <td>16 GB</td>\n",
       "      <td>DDR5 RAM</td>\n",
       "      <td>3.3 Ghz Processor</td>\n",
       "      <td>LCD</td>\n",
       "      <td>15.6</td>\n",
       "      <td>GeForce RTX 3050 GPU, 4 GB</td>\n",
       "      <td>NVIDIA</td>\n",
       "      <td>512 GB SSD Storage</td>\n",
       "      <td>No HDD</td>\n",
       "      <td>56</td>\n",
       "      <td>Upto 10 Hrs Battery Life</td>\n",
       "    </tr>\n",
       "    <tr>\n",
       "      <th>3</th>\n",
       "      <td>4</td>\n",
       "      <td>HP</td>\n",
       "      <td>HP 15s-fy5007TU (91R03PA) Laptop (15.6 Inch | ...</td>\n",
       "      <td>55490</td>\n",
       "      <td>Intel Core i5 (12th Gen)</td>\n",
       "      <td>Intel</td>\n",
       "      <td>8 GB Expandable</td>\n",
       "      <td>8 GB</td>\n",
       "      <td>DDR4 RAM</td>\n",
       "      <td>4.2 Ghz Processor</td>\n",
       "      <td>LCD</td>\n",
       "      <td>15.6</td>\n",
       "      <td>Iris Xe</td>\n",
       "      <td>Intel</td>\n",
       "      <td>512 GB SSD Storage</td>\n",
       "      <td>No HDD</td>\n",
       "      <td>no</td>\n",
       "      <td>Upto 7.30 Hrs Battery Life</td>\n",
       "    </tr>\n",
       "    <tr>\n",
       "      <th>4</th>\n",
       "      <td>6</td>\n",
       "      <td>Infinix</td>\n",
       "      <td>Infinix Inbook Y2 Plus XL29 Laptop (15.6 Inch ...</td>\n",
       "      <td>21990</td>\n",
       "      <td>Intel Core i3 (11th Gen)</td>\n",
       "      <td>Intel</td>\n",
       "      <td>Not Expandable</td>\n",
       "      <td>8 GB LP</td>\n",
       "      <td>LPDDR4X RAM</td>\n",
       "      <td>1.7 Ghz Processor</td>\n",
       "      <td>LCD</td>\n",
       "      <td>15.6</td>\n",
       "      <td>UHD</td>\n",
       "      <td>Intel</td>\n",
       "      <td>512 GB SSD Storage</td>\n",
       "      <td>No HDD</td>\n",
       "      <td>45</td>\n",
       "      <td>Upto 8 Hrs Battery Life</td>\n",
       "    </tr>\n",
       "  </tbody>\n",
       "</table>\n",
       "</div>"
      ],
      "text/plain": [
       "   Unnamed: 0    Brand                                               Name  \\\n",
       "0           0       HP  HP Chromebook 11A-NA0002MU (2E4N0PA) Laptop (1...   \n",
       "1           1   Lenovo  Lenovo Ideapad Slim 3 (82KU017KIN) Laptop (15....   \n",
       "2           3     Dell  Dell G15-5520 (D560822WIN9B) Laptop (15.6 Inch...   \n",
       "3           4       HP  HP 15s-fy5007TU (91R03PA) Laptop (15.6 Inch | ...   \n",
       "4           6  Infinix  Infinix Inbook Y2 Plus XL29 Laptop (15.6 Inch ...   \n",
       "\n",
       "   Price            Processor_Name Processor_Brand     RAM_Expandable  \\\n",
       "0  22990        MediaTek Octa-core        MediaTek     Not Expandable   \n",
       "1  36289     AMD Hexa-Core Ryzen 5             AMD   12 GB Expandable   \n",
       "2  78500  Intel Core i5 (12th Gen)           Intel   32 GB Expandable   \n",
       "3  55490  Intel Core i5 (12th Gen)           Intel    8 GB Expandable   \n",
       "4  21990  Intel Core i3 (11th Gen)           Intel     Not Expandable   \n",
       "\n",
       "       RAM      RAM_TYPE                 Ghz Display_type Display  \\\n",
       "0    4 GB       DDR4 RAM   2.0 Ghz Processor          LED   11.6    \n",
       "1    8 GB      DDR4 RAM    4.0 Ghz Processor          LCD   15.6    \n",
       "2   16 GB      DDR5 RAM    3.3 Ghz Processor          LCD   15.6    \n",
       "3    8 GB      DDR4 RAM    4.2 Ghz Processor          LCD   15.6    \n",
       "4  8 GB LP   LPDDR4X RAM   1.7 Ghz Processor          LCD   15.6    \n",
       "\n",
       "                          GPU GPU_Brand                 SSD     HDD Adapter  \\\n",
       "0         Integrated Graphics  MediaTek   64 GB SSD Storage  No HDD      45   \n",
       "1                      Radeon       AMD  512 GB SSD Storage  No HDD      65   \n",
       "2  GeForce RTX 3050 GPU, 4 GB    NVIDIA  512 GB SSD Storage  No HDD      56   \n",
       "3                     Iris Xe     Intel  512 GB SSD Storage  No HDD      no   \n",
       "4                         UHD     Intel  512 GB SSD Storage  No HDD      45   \n",
       "\n",
       "                 Battery_Life  \n",
       "0    Upto 12 Hrs Battery Life  \n",
       "1    Upto 11 Hrs Battery Life  \n",
       "2    Upto 10 Hrs Battery Life  \n",
       "3  Upto 7.30 Hrs Battery Life  \n",
       "4     Upto 8 Hrs Battery Life  "
      ]
     },
     "execution_count": 494,
     "metadata": {},
     "output_type": "execute_result"
    }
   ],
   "source": [
    "df.head()"
   ]
  },
  {
   "cell_type": "code",
   "execution_count": 495,
   "id": "a7ee2876",
   "metadata": {},
   "outputs": [
    {
     "name": "stdout",
     "output_type": "stream",
     "text": [
      "<class 'pandas.core.frame.DataFrame'>\n",
      "RangeIndex: 3976 entries, 0 to 3975\n",
      "Data columns (total 18 columns):\n",
      " #   Column           Non-Null Count  Dtype \n",
      "---  ------           --------------  ----- \n",
      " 0   Unnamed: 0       3976 non-null   int64 \n",
      " 1   Brand            3976 non-null   object\n",
      " 2   Name             3976 non-null   object\n",
      " 3   Price            3976 non-null   int64 \n",
      " 4   Processor_Name   3976 non-null   object\n",
      " 5   Processor_Brand  3976 non-null   object\n",
      " 6   RAM_Expandable   3976 non-null   object\n",
      " 7   RAM              3976 non-null   object\n",
      " 8   RAM_TYPE         3976 non-null   object\n",
      " 9   Ghz              3976 non-null   object\n",
      " 10  Display_type     3976 non-null   object\n",
      " 11  Display          3976 non-null   object\n",
      " 12  GPU              3968 non-null   object\n",
      " 13  GPU_Brand        3972 non-null   object\n",
      " 14  SSD              3976 non-null   object\n",
      " 15  HDD              3976 non-null   object\n",
      " 16  Adapter          3976 non-null   object\n",
      " 17  Battery_Life     3558 non-null   object\n",
      "dtypes: int64(2), object(16)\n",
      "memory usage: 559.3+ KB\n"
     ]
    }
   ],
   "source": [
    "df.info()"
   ]
  },
  {
   "cell_type": "markdown",
   "id": "0935903b",
   "metadata": {},
   "source": [
    "### Remove unnecessary coulmn 'Unnamed: 0'"
   ]
  },
  {
   "cell_type": "code",
   "execution_count": 496,
   "id": "91aea163",
   "metadata": {},
   "outputs": [
    {
     "data": {
      "text/plain": [
       "(3976, 18)"
      ]
     },
     "execution_count": 496,
     "metadata": {},
     "output_type": "execute_result"
    }
   ],
   "source": [
    "df.shape"
   ]
  },
  {
   "cell_type": "code",
   "execution_count": 497,
   "id": "67cde75b",
   "metadata": {},
   "outputs": [],
   "source": [
    "df = df.drop(columns=['Unnamed: 0', 'Name'])"
   ]
  },
  {
   "cell_type": "code",
   "execution_count": 498,
   "id": "711393ee",
   "metadata": {},
   "outputs": [
    {
     "data": {
      "text/html": [
       "<div>\n",
       "<style scoped>\n",
       "    .dataframe tbody tr th:only-of-type {\n",
       "        vertical-align: middle;\n",
       "    }\n",
       "\n",
       "    .dataframe tbody tr th {\n",
       "        vertical-align: top;\n",
       "    }\n",
       "\n",
       "    .dataframe thead th {\n",
       "        text-align: right;\n",
       "    }\n",
       "</style>\n",
       "<table border=\"1\" class=\"dataframe\">\n",
       "  <thead>\n",
       "    <tr style=\"text-align: right;\">\n",
       "      <th></th>\n",
       "      <th>Brand</th>\n",
       "      <th>Price</th>\n",
       "      <th>Processor_Name</th>\n",
       "      <th>Processor_Brand</th>\n",
       "      <th>RAM_Expandable</th>\n",
       "      <th>RAM</th>\n",
       "      <th>RAM_TYPE</th>\n",
       "      <th>Ghz</th>\n",
       "      <th>Display_type</th>\n",
       "      <th>Display</th>\n",
       "      <th>GPU</th>\n",
       "      <th>GPU_Brand</th>\n",
       "      <th>SSD</th>\n",
       "      <th>HDD</th>\n",
       "      <th>Adapter</th>\n",
       "      <th>Battery_Life</th>\n",
       "    </tr>\n",
       "  </thead>\n",
       "  <tbody>\n",
       "    <tr>\n",
       "      <th>0</th>\n",
       "      <td>HP</td>\n",
       "      <td>22990</td>\n",
       "      <td>MediaTek Octa-core</td>\n",
       "      <td>MediaTek</td>\n",
       "      <td>Not Expandable</td>\n",
       "      <td>4 GB</td>\n",
       "      <td>DDR4 RAM</td>\n",
       "      <td>2.0 Ghz Processor</td>\n",
       "      <td>LED</td>\n",
       "      <td>11.6</td>\n",
       "      <td>Integrated Graphics</td>\n",
       "      <td>MediaTek</td>\n",
       "      <td>64 GB SSD Storage</td>\n",
       "      <td>No HDD</td>\n",
       "      <td>45</td>\n",
       "      <td>Upto 12 Hrs Battery Life</td>\n",
       "    </tr>\n",
       "    <tr>\n",
       "      <th>1</th>\n",
       "      <td>Lenovo</td>\n",
       "      <td>36289</td>\n",
       "      <td>AMD Hexa-Core Ryzen 5</td>\n",
       "      <td>AMD</td>\n",
       "      <td>12 GB Expandable</td>\n",
       "      <td>8 GB</td>\n",
       "      <td>DDR4 RAM</td>\n",
       "      <td>4.0 Ghz Processor</td>\n",
       "      <td>LCD</td>\n",
       "      <td>15.6</td>\n",
       "      <td>Radeon</td>\n",
       "      <td>AMD</td>\n",
       "      <td>512 GB SSD Storage</td>\n",
       "      <td>No HDD</td>\n",
       "      <td>65</td>\n",
       "      <td>Upto 11 Hrs Battery Life</td>\n",
       "    </tr>\n",
       "    <tr>\n",
       "      <th>2</th>\n",
       "      <td>Dell</td>\n",
       "      <td>78500</td>\n",
       "      <td>Intel Core i5 (12th Gen)</td>\n",
       "      <td>Intel</td>\n",
       "      <td>32 GB Expandable</td>\n",
       "      <td>16 GB</td>\n",
       "      <td>DDR5 RAM</td>\n",
       "      <td>3.3 Ghz Processor</td>\n",
       "      <td>LCD</td>\n",
       "      <td>15.6</td>\n",
       "      <td>GeForce RTX 3050 GPU, 4 GB</td>\n",
       "      <td>NVIDIA</td>\n",
       "      <td>512 GB SSD Storage</td>\n",
       "      <td>No HDD</td>\n",
       "      <td>56</td>\n",
       "      <td>Upto 10 Hrs Battery Life</td>\n",
       "    </tr>\n",
       "    <tr>\n",
       "      <th>3</th>\n",
       "      <td>HP</td>\n",
       "      <td>55490</td>\n",
       "      <td>Intel Core i5 (12th Gen)</td>\n",
       "      <td>Intel</td>\n",
       "      <td>8 GB Expandable</td>\n",
       "      <td>8 GB</td>\n",
       "      <td>DDR4 RAM</td>\n",
       "      <td>4.2 Ghz Processor</td>\n",
       "      <td>LCD</td>\n",
       "      <td>15.6</td>\n",
       "      <td>Iris Xe</td>\n",
       "      <td>Intel</td>\n",
       "      <td>512 GB SSD Storage</td>\n",
       "      <td>No HDD</td>\n",
       "      <td>no</td>\n",
       "      <td>Upto 7.30 Hrs Battery Life</td>\n",
       "    </tr>\n",
       "    <tr>\n",
       "      <th>4</th>\n",
       "      <td>Infinix</td>\n",
       "      <td>21990</td>\n",
       "      <td>Intel Core i3 (11th Gen)</td>\n",
       "      <td>Intel</td>\n",
       "      <td>Not Expandable</td>\n",
       "      <td>8 GB LP</td>\n",
       "      <td>LPDDR4X RAM</td>\n",
       "      <td>1.7 Ghz Processor</td>\n",
       "      <td>LCD</td>\n",
       "      <td>15.6</td>\n",
       "      <td>UHD</td>\n",
       "      <td>Intel</td>\n",
       "      <td>512 GB SSD Storage</td>\n",
       "      <td>No HDD</td>\n",
       "      <td>45</td>\n",
       "      <td>Upto 8 Hrs Battery Life</td>\n",
       "    </tr>\n",
       "  </tbody>\n",
       "</table>\n",
       "</div>"
      ],
      "text/plain": [
       "     Brand  Price            Processor_Name Processor_Brand  \\\n",
       "0       HP  22990        MediaTek Octa-core        MediaTek   \n",
       "1   Lenovo  36289     AMD Hexa-Core Ryzen 5             AMD   \n",
       "2     Dell  78500  Intel Core i5 (12th Gen)           Intel   \n",
       "3       HP  55490  Intel Core i5 (12th Gen)           Intel   \n",
       "4  Infinix  21990  Intel Core i3 (11th Gen)           Intel   \n",
       "\n",
       "      RAM_Expandable      RAM      RAM_TYPE                 Ghz Display_type  \\\n",
       "0     Not Expandable    4 GB       DDR4 RAM   2.0 Ghz Processor          LED   \n",
       "1   12 GB Expandable    8 GB      DDR4 RAM    4.0 Ghz Processor          LCD   \n",
       "2   32 GB Expandable   16 GB      DDR5 RAM    3.3 Ghz Processor          LCD   \n",
       "3    8 GB Expandable    8 GB      DDR4 RAM    4.2 Ghz Processor          LCD   \n",
       "4     Not Expandable  8 GB LP   LPDDR4X RAM   1.7 Ghz Processor          LCD   \n",
       "\n",
       "  Display                         GPU GPU_Brand                 SSD     HDD  \\\n",
       "0   11.6          Integrated Graphics  MediaTek   64 GB SSD Storage  No HDD   \n",
       "1   15.6                       Radeon       AMD  512 GB SSD Storage  No HDD   \n",
       "2   15.6   GeForce RTX 3050 GPU, 4 GB    NVIDIA  512 GB SSD Storage  No HDD   \n",
       "3   15.6                      Iris Xe     Intel  512 GB SSD Storage  No HDD   \n",
       "4   15.6                          UHD     Intel  512 GB SSD Storage  No HDD   \n",
       "\n",
       "  Adapter                Battery_Life  \n",
       "0      45    Upto 12 Hrs Battery Life  \n",
       "1      65    Upto 11 Hrs Battery Life  \n",
       "2      56    Upto 10 Hrs Battery Life  \n",
       "3      no  Upto 7.30 Hrs Battery Life  \n",
       "4      45     Upto 8 Hrs Battery Life  "
      ]
     },
     "execution_count": 498,
     "metadata": {},
     "output_type": "execute_result"
    }
   ],
   "source": [
    "df.head()"
   ]
  },
  {
   "cell_type": "code",
   "execution_count": 499,
   "id": "0dc5d9e5",
   "metadata": {},
   "outputs": [
    {
     "data": {
      "text/plain": [
       "(3976, 16)"
      ]
     },
     "execution_count": 499,
     "metadata": {},
     "output_type": "execute_result"
    }
   ],
   "source": [
    "df.shape"
   ]
  },
  {
   "cell_type": "markdown",
   "id": "9cd30e29",
   "metadata": {},
   "source": [
    "### Drop Duplicate Rows"
   ]
  },
  {
   "cell_type": "code",
   "execution_count": 500,
   "id": "af6f0b45",
   "metadata": {},
   "outputs": [
    {
     "data": {
      "text/html": [
       "<div>\n",
       "<style scoped>\n",
       "    .dataframe tbody tr th:only-of-type {\n",
       "        vertical-align: middle;\n",
       "    }\n",
       "\n",
       "    .dataframe tbody tr th {\n",
       "        vertical-align: top;\n",
       "    }\n",
       "\n",
       "    .dataframe thead th {\n",
       "        text-align: right;\n",
       "    }\n",
       "</style>\n",
       "<table border=\"1\" class=\"dataframe\">\n",
       "  <thead>\n",
       "    <tr style=\"text-align: right;\">\n",
       "      <th></th>\n",
       "      <th>Brand</th>\n",
       "      <th>Price</th>\n",
       "      <th>Processor_Name</th>\n",
       "      <th>Processor_Brand</th>\n",
       "      <th>RAM_Expandable</th>\n",
       "      <th>RAM</th>\n",
       "      <th>RAM_TYPE</th>\n",
       "      <th>Ghz</th>\n",
       "      <th>Display_type</th>\n",
       "      <th>Display</th>\n",
       "      <th>GPU</th>\n",
       "      <th>GPU_Brand</th>\n",
       "      <th>SSD</th>\n",
       "      <th>HDD</th>\n",
       "      <th>Adapter</th>\n",
       "      <th>Battery_Life</th>\n",
       "    </tr>\n",
       "  </thead>\n",
       "  <tbody>\n",
       "    <tr>\n",
       "      <th>444</th>\n",
       "      <td>ASUS</td>\n",
       "      <td>42990</td>\n",
       "      <td>Intel Core i3 (13th Gen)</td>\n",
       "      <td>Intel</td>\n",
       "      <td>16 GB Expandable</td>\n",
       "      <td>8 GB</td>\n",
       "      <td>DDR4 RAM</td>\n",
       "      <td>1.2 Ghz Processor</td>\n",
       "      <td>LCD</td>\n",
       "      <td>15.6</td>\n",
       "      <td>UHD</td>\n",
       "      <td>Intel</td>\n",
       "      <td>512 GB SSD Storage</td>\n",
       "      <td>No HDD</td>\n",
       "      <td>45</td>\n",
       "      <td>Upto 6 Hrs Battery Life</td>\n",
       "    </tr>\n",
       "    <tr>\n",
       "      <th>445</th>\n",
       "      <td>ASUS</td>\n",
       "      <td>42990</td>\n",
       "      <td>Intel Core i3 (13th Gen)</td>\n",
       "      <td>Intel</td>\n",
       "      <td>16 GB Expandable</td>\n",
       "      <td>8 GB</td>\n",
       "      <td>DDR4 RAM</td>\n",
       "      <td>1.2 Ghz Processor</td>\n",
       "      <td>LCD</td>\n",
       "      <td>15.6</td>\n",
       "      <td>UHD</td>\n",
       "      <td>Intel</td>\n",
       "      <td>512 GB SSD Storage</td>\n",
       "      <td>No HDD</td>\n",
       "      <td>45</td>\n",
       "      <td>Upto 6 Hrs Battery Life</td>\n",
       "    </tr>\n",
       "    <tr>\n",
       "      <th>619</th>\n",
       "      <td>Acer</td>\n",
       "      <td>70990</td>\n",
       "      <td>Intel Core i5 (13th Gen) Processor</td>\n",
       "      <td>Intel</td>\n",
       "      <td>32 GB Expandable</td>\n",
       "      <td>16 GB</td>\n",
       "      <td>DDR5 RAM</td>\n",
       "      <td>0</td>\n",
       "      <td>LCD</td>\n",
       "      <td>15.6</td>\n",
       "      <td>GeForce RTX 3050 GPU, 6 GB</td>\n",
       "      <td>NVIDIA</td>\n",
       "      <td>512 GB SSD Storage</td>\n",
       "      <td>No HDD</td>\n",
       "      <td>135</td>\n",
       "      <td>135W Adapter</td>\n",
       "    </tr>\n",
       "    <tr>\n",
       "      <th>653</th>\n",
       "      <td>Microsoft</td>\n",
       "      <td>99990</td>\n",
       "      <td>Intel Core i5 (12th Gen)</td>\n",
       "      <td>Intel</td>\n",
       "      <td>8 GB Expandable</td>\n",
       "      <td>8 GB LP</td>\n",
       "      <td>LPDDR5 RAM</td>\n",
       "      <td>4.2 Ghz Processor</td>\n",
       "      <td>LCD</td>\n",
       "      <td>13</td>\n",
       "      <td>Integrated</td>\n",
       "      <td>Intel</td>\n",
       "      <td>256 GB SSD Storage</td>\n",
       "      <td>No HDD</td>\n",
       "      <td>65</td>\n",
       "      <td>Upto 15.5 Hrs Battery Life</td>\n",
       "    </tr>\n",
       "    <tr>\n",
       "      <th>896</th>\n",
       "      <td>ASUS</td>\n",
       "      <td>201990</td>\n",
       "      <td>AMD Octa-Core Ryzen 9</td>\n",
       "      <td>AMD</td>\n",
       "      <td>Not Expandable</td>\n",
       "      <td>16 GB</td>\n",
       "      <td>DDR5 RAM</td>\n",
       "      <td>4.8 Ghz Processor</td>\n",
       "      <td>LCD</td>\n",
       "      <td>15.6</td>\n",
       "      <td>GeForce RTX 3070 Ti GPU, 8 GB</td>\n",
       "      <td>NVIDIA</td>\n",
       "      <td>1024 GB SSD Storage</td>\n",
       "      <td>No HDD</td>\n",
       "      <td>65</td>\n",
       "      <td>65W Adapter</td>\n",
       "    </tr>\n",
       "    <tr>\n",
       "      <th>1032</th>\n",
       "      <td>ASUS</td>\n",
       "      <td>69990</td>\n",
       "      <td>Intel Core i5 (12th Gen)</td>\n",
       "      <td>Intel</td>\n",
       "      <td>Not Expandable</td>\n",
       "      <td>16 GB</td>\n",
       "      <td>DDR4 RAM</td>\n",
       "      <td>2.5 Ghz Processor</td>\n",
       "      <td>LCD</td>\n",
       "      <td>16</td>\n",
       "      <td>GeForce RTX 2050 GPU, 4 GB</td>\n",
       "      <td>NVIDIA</td>\n",
       "      <td>512 GB SSD Storage</td>\n",
       "      <td>No HDD</td>\n",
       "      <td>120</td>\n",
       "      <td>120W Adapter</td>\n",
       "    </tr>\n",
       "    <tr>\n",
       "      <th>1315</th>\n",
       "      <td>ASUS</td>\n",
       "      <td>58990</td>\n",
       "      <td>Intel Core i5 (13th Gen)</td>\n",
       "      <td>Intel</td>\n",
       "      <td>Not Expandable</td>\n",
       "      <td>16 GB</td>\n",
       "      <td>DDR4 RAM</td>\n",
       "      <td>1.3 Ghz Processor</td>\n",
       "      <td>LCD</td>\n",
       "      <td>15.6</td>\n",
       "      <td>Iris Xe</td>\n",
       "      <td>Intel</td>\n",
       "      <td>512 GB SSD Storage</td>\n",
       "      <td>No HDD</td>\n",
       "      <td>45</td>\n",
       "      <td>Upto 6 Hrs Battery Life</td>\n",
       "    </tr>\n",
       "    <tr>\n",
       "      <th>1574</th>\n",
       "      <td>ASUS</td>\n",
       "      <td>81990</td>\n",
       "      <td>Intel Core i7 (8th Gen)</td>\n",
       "      <td>Intel</td>\n",
       "      <td>Not Expandable</td>\n",
       "      <td>8 GB</td>\n",
       "      <td>DDR4 RAM</td>\n",
       "      <td>1.8 Ghz Processor</td>\n",
       "      <td>LED</td>\n",
       "      <td>14</td>\n",
       "      <td>GeForce MX150 GPU, 2 GB</td>\n",
       "      <td>NVIDIA</td>\n",
       "      <td>256 GB SSD Storage</td>\n",
       "      <td>1024 GB HDD Storage</td>\n",
       "      <td>42</td>\n",
       "      <td>42W Adapter</td>\n",
       "    </tr>\n",
       "    <tr>\n",
       "      <th>1813</th>\n",
       "      <td>ASUS</td>\n",
       "      <td>64990</td>\n",
       "      <td>Intel Core i5 (8th Gen)</td>\n",
       "      <td>Intel</td>\n",
       "      <td>Not Expandable</td>\n",
       "      <td>8 GB</td>\n",
       "      <td>DDR4 RAM</td>\n",
       "      <td>1.6 Ghz Processor</td>\n",
       "      <td>LED</td>\n",
       "      <td>14</td>\n",
       "      <td>UHD 620</td>\n",
       "      <td>Intel</td>\n",
       "      <td>256 GB SSD Storage</td>\n",
       "      <td>1024 GB HDD Storage</td>\n",
       "      <td>42</td>\n",
       "      <td>42W Adapter</td>\n",
       "    </tr>\n",
       "    <tr>\n",
       "      <th>1817</th>\n",
       "      <td>ASUS</td>\n",
       "      <td>64990</td>\n",
       "      <td>Intel Core i5 (8th Gen)</td>\n",
       "      <td>Intel</td>\n",
       "      <td>Not Expandable</td>\n",
       "      <td>8 GB</td>\n",
       "      <td>DDR4 RAM</td>\n",
       "      <td>1.6 Ghz Processor</td>\n",
       "      <td>LED</td>\n",
       "      <td>14</td>\n",
       "      <td>UHD 620</td>\n",
       "      <td>Intel</td>\n",
       "      <td>256 GB SSD Storage</td>\n",
       "      <td>1024 GB HDD Storage</td>\n",
       "      <td>42</td>\n",
       "      <td>42W Adapter</td>\n",
       "    </tr>\n",
       "    <tr>\n",
       "      <th>1907</th>\n",
       "      <td>Acer</td>\n",
       "      <td>31490</td>\n",
       "      <td>Intel Core i3 (12th Gen) Processor</td>\n",
       "      <td>Intel</td>\n",
       "      <td>Not Expandable</td>\n",
       "      <td>8 GB LP</td>\n",
       "      <td>LPDDR5 RAM</td>\n",
       "      <td>0</td>\n",
       "      <td>LCD</td>\n",
       "      <td>15.6</td>\n",
       "      <td>UHD</td>\n",
       "      <td>Intel</td>\n",
       "      <td>256 GB SSD Storage</td>\n",
       "      <td>No HDD</td>\n",
       "      <td>45</td>\n",
       "      <td>45W Adapter</td>\n",
       "    </tr>\n",
       "    <tr>\n",
       "      <th>2007</th>\n",
       "      <td>Acer</td>\n",
       "      <td>56990</td>\n",
       "      <td>Intel Core i5 (13th Gen) Processor</td>\n",
       "      <td>Intel</td>\n",
       "      <td>32 GB Expandable</td>\n",
       "      <td>16 GB</td>\n",
       "      <td>DDR5 RAM</td>\n",
       "      <td>0</td>\n",
       "      <td>LCD</td>\n",
       "      <td>15.6</td>\n",
       "      <td>GeForce RTX 2050 GPU, 4 GB</td>\n",
       "      <td>NVIDIA</td>\n",
       "      <td>512 GB SSD Storage</td>\n",
       "      <td>No HDD</td>\n",
       "      <td>135</td>\n",
       "      <td>135W Adapter</td>\n",
       "    </tr>\n",
       "    <tr>\n",
       "      <th>2050</th>\n",
       "      <td>Lenovo</td>\n",
       "      <td>64990</td>\n",
       "      <td>AMD Hexa-Core Ryzen 5</td>\n",
       "      <td>AMD</td>\n",
       "      <td>16 GB Expandable</td>\n",
       "      <td>16 GB</td>\n",
       "      <td>DDR5 RAM</td>\n",
       "      <td>3.3 Ghz Processor</td>\n",
       "      <td>LCD</td>\n",
       "      <td>15.6</td>\n",
       "      <td>GeForce RTX 3050 GPU, 6 GB</td>\n",
       "      <td>NVIDIA</td>\n",
       "      <td>512 GB SSD Storage</td>\n",
       "      <td>No HDD</td>\n",
       "      <td>no</td>\n",
       "      <td>Upto 6.5 Hrs Battery Life</td>\n",
       "    </tr>\n",
       "    <tr>\n",
       "      <th>2052</th>\n",
       "      <td>HP</td>\n",
       "      <td>74990</td>\n",
       "      <td>Intel Core i5 (12th Gen)</td>\n",
       "      <td>Intel</td>\n",
       "      <td>Not Expandable</td>\n",
       "      <td>16 GB</td>\n",
       "      <td>DDR4 RAM</td>\n",
       "      <td>4.7 Ghz Processor</td>\n",
       "      <td>LCD</td>\n",
       "      <td>14</td>\n",
       "      <td>Iris Xe</td>\n",
       "      <td>Intel</td>\n",
       "      <td>512 GB SSD Storage</td>\n",
       "      <td>No HDD</td>\n",
       "      <td>65</td>\n",
       "      <td>Upto 11 Hrs Battery Life</td>\n",
       "    </tr>\n",
       "    <tr>\n",
       "      <th>2276</th>\n",
       "      <td>Acer</td>\n",
       "      <td>37990</td>\n",
       "      <td>Intel Core i3 (13th Gen) Processor</td>\n",
       "      <td>Intel</td>\n",
       "      <td>Not Expandable</td>\n",
       "      <td>8 GB LP</td>\n",
       "      <td>LPDDR5 RAM</td>\n",
       "      <td>0</td>\n",
       "      <td>LCD</td>\n",
       "      <td>15.6</td>\n",
       "      <td>UHD</td>\n",
       "      <td>Intel</td>\n",
       "      <td>512 GB SSD Storage</td>\n",
       "      <td>No HDD</td>\n",
       "      <td>65</td>\n",
       "      <td>65W Adapter</td>\n",
       "    </tr>\n",
       "    <tr>\n",
       "      <th>2557</th>\n",
       "      <td>ASUS</td>\n",
       "      <td>111990</td>\n",
       "      <td>Intel Core Ultra 7</td>\n",
       "      <td>Intel</td>\n",
       "      <td>Not Expandable</td>\n",
       "      <td>16 GB LP</td>\n",
       "      <td>LPDDR5X RAM</td>\n",
       "      <td>1.4 Ghz Processor</td>\n",
       "      <td>LED</td>\n",
       "      <td>15.6</td>\n",
       "      <td>Arc</td>\n",
       "      <td>Intel</td>\n",
       "      <td>1024 GB SSD Storage</td>\n",
       "      <td>No HDD</td>\n",
       "      <td>90</td>\n",
       "      <td>90W Adapter</td>\n",
       "    </tr>\n",
       "    <tr>\n",
       "      <th>2706</th>\n",
       "      <td>ASUS</td>\n",
       "      <td>78990</td>\n",
       "      <td>Intel Core i7 (12th Gen)</td>\n",
       "      <td>Intel</td>\n",
       "      <td>Not Expandable</td>\n",
       "      <td>16 GB</td>\n",
       "      <td>DDR4 RAM</td>\n",
       "      <td>2.3 Ghz Processor</td>\n",
       "      <td>LCD</td>\n",
       "      <td>16</td>\n",
       "      <td>GeForce RTX 3050 GPU, 4 GB</td>\n",
       "      <td>NVIDIA</td>\n",
       "      <td>512 GB SSD Storage</td>\n",
       "      <td>No HDD</td>\n",
       "      <td>120</td>\n",
       "      <td>120W Adapter</td>\n",
       "    </tr>\n",
       "    <tr>\n",
       "      <th>2713</th>\n",
       "      <td>HP</td>\n",
       "      <td>151990</td>\n",
       "      <td>Intel Core i7 (13th Gen)</td>\n",
       "      <td>Intel</td>\n",
       "      <td>Not Expandable</td>\n",
       "      <td>16 GB</td>\n",
       "      <td>DDR5 RAM</td>\n",
       "      <td>4.8 Ghz Processor</td>\n",
       "      <td>LCD</td>\n",
       "      <td>16.1</td>\n",
       "      <td>GeForce RTX 4060 GPU, 8 GB</td>\n",
       "      <td>NVIDIA</td>\n",
       "      <td>512 GB SSD Storage</td>\n",
       "      <td>No HDD</td>\n",
       "      <td>280</td>\n",
       "      <td>280W Adapter</td>\n",
       "    </tr>\n",
       "    <tr>\n",
       "      <th>2857</th>\n",
       "      <td>ASUS</td>\n",
       "      <td>64990</td>\n",
       "      <td>Intel Core i7 (12th Gen)</td>\n",
       "      <td>Intel</td>\n",
       "      <td>Not Expandable</td>\n",
       "      <td>16 GB</td>\n",
       "      <td>DDR4 RAM</td>\n",
       "      <td>2.3 Ghz Processor</td>\n",
       "      <td>LCD</td>\n",
       "      <td>15.6</td>\n",
       "      <td>UHD</td>\n",
       "      <td>Intel</td>\n",
       "      <td>512 GB SSD Storage</td>\n",
       "      <td>No HDD</td>\n",
       "      <td>65</td>\n",
       "      <td>65W Adapter</td>\n",
       "    </tr>\n",
       "    <tr>\n",
       "      <th>2867</th>\n",
       "      <td>Lenovo</td>\n",
       "      <td>33900</td>\n",
       "      <td>Intel Core i3 (11th Gen)</td>\n",
       "      <td>Intel</td>\n",
       "      <td>12 GB Expandable</td>\n",
       "      <td>8 GB</td>\n",
       "      <td>DDR4 RAM</td>\n",
       "      <td>4.0 Ghz Processor</td>\n",
       "      <td>LCD</td>\n",
       "      <td>15.6</td>\n",
       "      <td>UHD</td>\n",
       "      <td>Intel</td>\n",
       "      <td>512 GB SSD Storage</td>\n",
       "      <td>No HDD</td>\n",
       "      <td>45</td>\n",
       "      <td>Upto 12 Hrs Battery Life</td>\n",
       "    </tr>\n",
       "    <tr>\n",
       "      <th>3018</th>\n",
       "      <td>HP</td>\n",
       "      <td>22071</td>\n",
       "      <td>Intel Celeron Dual-Core</td>\n",
       "      <td>Intel</td>\n",
       "      <td>Not Expandable</td>\n",
       "      <td>4 GB</td>\n",
       "      <td>DDR4 RAM</td>\n",
       "      <td>1.1 Ghz Processor</td>\n",
       "      <td>LED</td>\n",
       "      <td>15.6</td>\n",
       "      <td>UHD 600</td>\n",
       "      <td>Intel</td>\n",
       "      <td>NO SSD</td>\n",
       "      <td>1024 GB HDD Storage</td>\n",
       "      <td>46</td>\n",
       "      <td>46W Adapter</td>\n",
       "    </tr>\n",
       "    <tr>\n",
       "      <th>3104</th>\n",
       "      <td>Acer</td>\n",
       "      <td>27775</td>\n",
       "      <td>Intel Core i3 (10th Gen)</td>\n",
       "      <td>Intel</td>\n",
       "      <td>12 GB Expandable</td>\n",
       "      <td>4 GB</td>\n",
       "      <td>DDR4 RAM</td>\n",
       "      <td>1.2 Ghz Processor</td>\n",
       "      <td>LED</td>\n",
       "      <td>14</td>\n",
       "      <td>UHD</td>\n",
       "      <td>Intel</td>\n",
       "      <td>512 GB SSD Storage</td>\n",
       "      <td>No HDD</td>\n",
       "      <td>48</td>\n",
       "      <td>Upto 11 Hrs Battery Life</td>\n",
       "    </tr>\n",
       "    <tr>\n",
       "      <th>3208</th>\n",
       "      <td>ASUS</td>\n",
       "      <td>64990</td>\n",
       "      <td>Intel Core i5 (8th Gen)</td>\n",
       "      <td>Intel</td>\n",
       "      <td>Not Expandable</td>\n",
       "      <td>8 GB</td>\n",
       "      <td>DDR4 RAM</td>\n",
       "      <td>1.6 Ghz Processor</td>\n",
       "      <td>LED</td>\n",
       "      <td>14</td>\n",
       "      <td>UHD 620</td>\n",
       "      <td>Intel</td>\n",
       "      <td>256 GB SSD Storage</td>\n",
       "      <td>1024 GB HDD Storage</td>\n",
       "      <td>42</td>\n",
       "      <td>42W Adapter</td>\n",
       "    </tr>\n",
       "    <tr>\n",
       "      <th>3221</th>\n",
       "      <td>Apple</td>\n",
       "      <td>127990</td>\n",
       "      <td>Intel Core i5 (8th Gen)</td>\n",
       "      <td>Intel</td>\n",
       "      <td>Not Expandable</td>\n",
       "      <td>8 GB LP</td>\n",
       "      <td>LPDDR3 RAM</td>\n",
       "      <td>1.6 Ghz Processor</td>\n",
       "      <td>LED</td>\n",
       "      <td>13.3</td>\n",
       "      <td>UHD 617</td>\n",
       "      <td>Intel</td>\n",
       "      <td>256 GB SSD Storage</td>\n",
       "      <td>No HDD</td>\n",
       "      <td>no</td>\n",
       "      <td>Upto 13 Hrs Battery Life</td>\n",
       "    </tr>\n",
       "    <tr>\n",
       "      <th>3321</th>\n",
       "      <td>Lenovo</td>\n",
       "      <td>81990</td>\n",
       "      <td>AMD Octa-Core Ryzen 7</td>\n",
       "      <td>AMD</td>\n",
       "      <td>16 GB Expandable</td>\n",
       "      <td>16 GB</td>\n",
       "      <td>DDR4 RAM</td>\n",
       "      <td>3.1 Ghz Processor</td>\n",
       "      <td>LCD</td>\n",
       "      <td>15.6</td>\n",
       "      <td>GeForce RTX 3050 GPU, 4 GB</td>\n",
       "      <td>NVIDIA</td>\n",
       "      <td>512 GB SSD Storage</td>\n",
       "      <td>No HDD</td>\n",
       "      <td>65</td>\n",
       "      <td>Upto 5 Hrs Battery Life</td>\n",
       "    </tr>\n",
       "    <tr>\n",
       "      <th>3728</th>\n",
       "      <td>HP</td>\n",
       "      <td>36390</td>\n",
       "      <td>Intel Core i3 (4th Gen)</td>\n",
       "      <td>Intel</td>\n",
       "      <td>12 GB Expandable</td>\n",
       "      <td>4 GB</td>\n",
       "      <td>DDR3 RAM</td>\n",
       "      <td>1.7 Ghz Processor</td>\n",
       "      <td>LED</td>\n",
       "      <td>15.6</td>\n",
       "      <td>HD 4400</td>\n",
       "      <td>Intel</td>\n",
       "      <td>NO SSD</td>\n",
       "      <td>500 GB HDD Storage</td>\n",
       "      <td>65</td>\n",
       "      <td>65W Adapter</td>\n",
       "    </tr>\n",
       "    <tr>\n",
       "      <th>3896</th>\n",
       "      <td>ASUS</td>\n",
       "      <td>64990</td>\n",
       "      <td>AMD Octa-Core Ryzen 7</td>\n",
       "      <td>AMD</td>\n",
       "      <td>16 GB Expandable</td>\n",
       "      <td>16 GB LP</td>\n",
       "      <td>LPDDR5 RAM</td>\n",
       "      <td>3.1 Ghz Processor</td>\n",
       "      <td>LCD</td>\n",
       "      <td>15.6</td>\n",
       "      <td>GeForce RTX 3050 GPU, 4 GB</td>\n",
       "      <td>NVIDIA</td>\n",
       "      <td>512 GB SSD Storage</td>\n",
       "      <td>No HDD</td>\n",
       "      <td>150</td>\n",
       "      <td>150W Adapter</td>\n",
       "    </tr>\n",
       "  </tbody>\n",
       "</table>\n",
       "</div>"
      ],
      "text/plain": [
       "          Brand   Price                      Processor_Name Processor_Brand  \\\n",
       "444        ASUS   42990            Intel Core i3 (13th Gen)           Intel   \n",
       "445        ASUS   42990            Intel Core i3 (13th Gen)           Intel   \n",
       "619        Acer   70990  Intel Core i5 (13th Gen) Processor           Intel   \n",
       "653   Microsoft   99990            Intel Core i5 (12th Gen)           Intel   \n",
       "896        ASUS  201990               AMD Octa-Core Ryzen 9             AMD   \n",
       "1032       ASUS   69990            Intel Core i5 (12th Gen)           Intel   \n",
       "1315       ASUS   58990            Intel Core i5 (13th Gen)           Intel   \n",
       "1574       ASUS   81990             Intel Core i7 (8th Gen)           Intel   \n",
       "1813       ASUS   64990             Intel Core i5 (8th Gen)           Intel   \n",
       "1817       ASUS   64990             Intel Core i5 (8th Gen)           Intel   \n",
       "1907       Acer   31490  Intel Core i3 (12th Gen) Processor           Intel   \n",
       "2007       Acer   56990  Intel Core i5 (13th Gen) Processor           Intel   \n",
       "2050     Lenovo   64990               AMD Hexa-Core Ryzen 5             AMD   \n",
       "2052         HP   74990            Intel Core i5 (12th Gen)           Intel   \n",
       "2276       Acer   37990  Intel Core i3 (13th Gen) Processor           Intel   \n",
       "2557       ASUS  111990                  Intel Core Ultra 7           Intel   \n",
       "2706       ASUS   78990            Intel Core i7 (12th Gen)           Intel   \n",
       "2713         HP  151990            Intel Core i7 (13th Gen)           Intel   \n",
       "2857       ASUS   64990            Intel Core i7 (12th Gen)           Intel   \n",
       "2867     Lenovo   33900            Intel Core i3 (11th Gen)           Intel   \n",
       "3018         HP   22071             Intel Celeron Dual-Core           Intel   \n",
       "3104       Acer   27775            Intel Core i3 (10th Gen)           Intel   \n",
       "3208       ASUS   64990             Intel Core i5 (8th Gen)           Intel   \n",
       "3221      Apple  127990             Intel Core i5 (8th Gen)           Intel   \n",
       "3321     Lenovo   81990               AMD Octa-Core Ryzen 7             AMD   \n",
       "3728         HP   36390             Intel Core i3 (4th Gen)           Intel   \n",
       "3896       ASUS   64990               AMD Octa-Core Ryzen 7             AMD   \n",
       "\n",
       "         RAM_Expandable       RAM      RAM_TYPE                 Ghz  \\\n",
       "444    16 GB Expandable     8 GB      DDR4 RAM    1.2 Ghz Processor   \n",
       "445    16 GB Expandable     8 GB      DDR4 RAM    1.2 Ghz Processor   \n",
       "619    32 GB Expandable    16 GB      DDR5 RAM                    0   \n",
       "653     8 GB Expandable   8 GB LP   LPDDR5 RAM    4.2 Ghz Processor   \n",
       "896      Not Expandable    16 GB       DDR5 RAM   4.8 Ghz Processor   \n",
       "1032     Not Expandable    16 GB       DDR4 RAM   2.5 Ghz Processor   \n",
       "1315     Not Expandable    16 GB       DDR4 RAM   1.3 Ghz Processor   \n",
       "1574     Not Expandable     8 GB       DDR4 RAM   1.8 Ghz Processor   \n",
       "1813     Not Expandable     8 GB       DDR4 RAM   1.6 Ghz Processor   \n",
       "1817     Not Expandable     8 GB       DDR4 RAM   1.6 Ghz Processor   \n",
       "1907     Not Expandable   8 GB LP    LPDDR5 RAM                   0   \n",
       "2007   32 GB Expandable    16 GB      DDR5 RAM                    0   \n",
       "2050   16 GB Expandable    16 GB      DDR5 RAM    3.3 Ghz Processor   \n",
       "2052     Not Expandable    16 GB       DDR4 RAM   4.7 Ghz Processor   \n",
       "2276     Not Expandable   8 GB LP    LPDDR5 RAM                   0   \n",
       "2557     Not Expandable  16 GB LP   LPDDR5X RAM   1.4 Ghz Processor   \n",
       "2706     Not Expandable    16 GB       DDR4 RAM   2.3 Ghz Processor   \n",
       "2713     Not Expandable    16 GB       DDR5 RAM   4.8 Ghz Processor   \n",
       "2857     Not Expandable    16 GB       DDR4 RAM   2.3 Ghz Processor   \n",
       "2867   12 GB Expandable     8 GB      DDR4 RAM    4.0 Ghz Processor   \n",
       "3018     Not Expandable     4 GB       DDR4 RAM   1.1 Ghz Processor   \n",
       "3104   12 GB Expandable     4 GB      DDR4 RAM    1.2 Ghz Processor   \n",
       "3208     Not Expandable     8 GB       DDR4 RAM   1.6 Ghz Processor   \n",
       "3221     Not Expandable   8 GB LP    LPDDR3 RAM   1.6 Ghz Processor   \n",
       "3321   16 GB Expandable    16 GB      DDR4 RAM    3.1 Ghz Processor   \n",
       "3728   12 GB Expandable     4 GB      DDR3 RAM    1.7 Ghz Processor   \n",
       "3896   16 GB Expandable  16 GB LP   LPDDR5 RAM    3.1 Ghz Processor   \n",
       "\n",
       "     Display_type Display                            GPU GPU_Brand  \\\n",
       "444           LCD   15.6                             UHD     Intel   \n",
       "445           LCD   15.6                             UHD     Intel   \n",
       "619           LCD   15.6      GeForce RTX 3050 GPU, 6 GB    NVIDIA   \n",
       "653           LCD     13                      Integrated     Intel   \n",
       "896           LCD   15.6   GeForce RTX 3070 Ti GPU, 8 GB    NVIDIA   \n",
       "1032          LCD     16      GeForce RTX 2050 GPU, 4 GB    NVIDIA   \n",
       "1315          LCD   15.6                         Iris Xe     Intel   \n",
       "1574          LED     14         GeForce MX150 GPU, 2 GB    NVIDIA   \n",
       "1813          LED     14                         UHD 620     Intel   \n",
       "1817          LED     14                         UHD 620     Intel   \n",
       "1907          LCD   15.6                             UHD     Intel   \n",
       "2007          LCD   15.6      GeForce RTX 2050 GPU, 4 GB    NVIDIA   \n",
       "2050          LCD   15.6      GeForce RTX 3050 GPU, 6 GB    NVIDIA   \n",
       "2052          LCD     14                         Iris Xe     Intel   \n",
       "2276          LCD   15.6                             UHD     Intel   \n",
       "2557          LED   15.6                             Arc     Intel   \n",
       "2706          LCD     16      GeForce RTX 3050 GPU, 4 GB    NVIDIA   \n",
       "2713          LCD   16.1      GeForce RTX 4060 GPU, 8 GB    NVIDIA   \n",
       "2857          LCD   15.6                             UHD     Intel   \n",
       "2867          LCD   15.6                             UHD     Intel   \n",
       "3018          LED   15.6                         UHD 600     Intel   \n",
       "3104          LED     14                             UHD     Intel   \n",
       "3208          LED     14                         UHD 620     Intel   \n",
       "3221          LED   13.3                         UHD 617     Intel   \n",
       "3321          LCD   15.6      GeForce RTX 3050 GPU, 4 GB    NVIDIA   \n",
       "3728          LED   15.6                         HD 4400     Intel   \n",
       "3896          LCD   15.6      GeForce RTX 3050 GPU, 4 GB    NVIDIA   \n",
       "\n",
       "                      SSD                   HDD Adapter  \\\n",
       "444    512 GB SSD Storage                No HDD      45   \n",
       "445    512 GB SSD Storage                No HDD      45   \n",
       "619    512 GB SSD Storage                No HDD     135   \n",
       "653    256 GB SSD Storage                No HDD      65   \n",
       "896   1024 GB SSD Storage                No HDD      65   \n",
       "1032   512 GB SSD Storage                No HDD     120   \n",
       "1315   512 GB SSD Storage                No HDD      45   \n",
       "1574  256 GB SSD Storage    1024 GB HDD Storage      42   \n",
       "1813  256 GB SSD Storage    1024 GB HDD Storage      42   \n",
       "1817  256 GB SSD Storage    1024 GB HDD Storage      42   \n",
       "1907   256 GB SSD Storage                No HDD      45   \n",
       "2007   512 GB SSD Storage                No HDD     135   \n",
       "2050   512 GB SSD Storage                No HDD      no   \n",
       "2052   512 GB SSD Storage                No HDD      65   \n",
       "2276   512 GB SSD Storage                No HDD      65   \n",
       "2557  1024 GB SSD Storage                No HDD      90   \n",
       "2706   512 GB SSD Storage                No HDD     120   \n",
       "2713   512 GB SSD Storage                No HDD     280   \n",
       "2857   512 GB SSD Storage                No HDD      65   \n",
       "2867   512 GB SSD Storage                No HDD      45   \n",
       "3018               NO SSD   1024 GB HDD Storage      46   \n",
       "3104   512 GB SSD Storage                No HDD      48   \n",
       "3208  256 GB SSD Storage    1024 GB HDD Storage      42   \n",
       "3221   256 GB SSD Storage                No HDD      no   \n",
       "3321   512 GB SSD Storage                No HDD      65   \n",
       "3728               NO SSD    500 GB HDD Storage      65   \n",
       "3896   512 GB SSD Storage                No HDD     150   \n",
       "\n",
       "                     Battery_Life  \n",
       "444       Upto 6 Hrs Battery Life  \n",
       "445       Upto 6 Hrs Battery Life  \n",
       "619                  135W Adapter  \n",
       "653    Upto 15.5 Hrs Battery Life  \n",
       "896                   65W Adapter  \n",
       "1032                 120W Adapter  \n",
       "1315      Upto 6 Hrs Battery Life  \n",
       "1574                  42W Adapter  \n",
       "1813                  42W Adapter  \n",
       "1817                  42W Adapter  \n",
       "1907                  45W Adapter  \n",
       "2007                 135W Adapter  \n",
       "2050    Upto 6.5 Hrs Battery Life  \n",
       "2052     Upto 11 Hrs Battery Life  \n",
       "2276                  65W Adapter  \n",
       "2557                  90W Adapter  \n",
       "2706                 120W Adapter  \n",
       "2713                 280W Adapter  \n",
       "2857                  65W Adapter  \n",
       "2867     Upto 12 Hrs Battery Life  \n",
       "3018                  46W Adapter  \n",
       "3104     Upto 11 Hrs Battery Life  \n",
       "3208                  42W Adapter  \n",
       "3221     Upto 13 Hrs Battery Life  \n",
       "3321      Upto 5 Hrs Battery Life  \n",
       "3728                  65W Adapter  \n",
       "3896                 150W Adapter  "
      ]
     },
     "execution_count": 500,
     "metadata": {},
     "output_type": "execute_result"
    }
   ],
   "source": [
    "df[df.duplicated()]"
   ]
  },
  {
   "cell_type": "code",
   "execution_count": 501,
   "id": "bb622230",
   "metadata": {},
   "outputs": [],
   "source": [
    "df.drop_duplicates(inplace=True)"
   ]
  },
  {
   "cell_type": "code",
   "execution_count": 502,
   "id": "5263616b",
   "metadata": {},
   "outputs": [
    {
     "data": {
      "text/html": [
       "<div>\n",
       "<style scoped>\n",
       "    .dataframe tbody tr th:only-of-type {\n",
       "        vertical-align: middle;\n",
       "    }\n",
       "\n",
       "    .dataframe tbody tr th {\n",
       "        vertical-align: top;\n",
       "    }\n",
       "\n",
       "    .dataframe thead th {\n",
       "        text-align: right;\n",
       "    }\n",
       "</style>\n",
       "<table border=\"1\" class=\"dataframe\">\n",
       "  <thead>\n",
       "    <tr style=\"text-align: right;\">\n",
       "      <th></th>\n",
       "      <th>Brand</th>\n",
       "      <th>Price</th>\n",
       "      <th>Processor_Name</th>\n",
       "      <th>Processor_Brand</th>\n",
       "      <th>RAM_Expandable</th>\n",
       "      <th>RAM</th>\n",
       "      <th>RAM_TYPE</th>\n",
       "      <th>Ghz</th>\n",
       "      <th>Display_type</th>\n",
       "      <th>Display</th>\n",
       "      <th>GPU</th>\n",
       "      <th>GPU_Brand</th>\n",
       "      <th>SSD</th>\n",
       "      <th>HDD</th>\n",
       "      <th>Adapter</th>\n",
       "      <th>Battery_Life</th>\n",
       "    </tr>\n",
       "  </thead>\n",
       "  <tbody>\n",
       "  </tbody>\n",
       "</table>\n",
       "</div>"
      ],
      "text/plain": [
       "Empty DataFrame\n",
       "Columns: [Brand, Price, Processor_Name, Processor_Brand, RAM_Expandable, RAM, RAM_TYPE, Ghz, Display_type, Display, GPU, GPU_Brand, SSD, HDD, Adapter, Battery_Life]\n",
       "Index: []"
      ]
     },
     "execution_count": 502,
     "metadata": {},
     "output_type": "execute_result"
    }
   ],
   "source": [
    "df[df.duplicated()]"
   ]
  },
  {
   "cell_type": "code",
   "execution_count": 503,
   "id": "fb8b1746",
   "metadata": {},
   "outputs": [
    {
     "data": {
      "text/plain": [
       "(3949, 16)"
      ]
     },
     "execution_count": 503,
     "metadata": {},
     "output_type": "execute_result"
    }
   ],
   "source": [
    "df.shape"
   ]
  },
  {
   "cell_type": "markdown",
   "id": "c1c7f05e",
   "metadata": {},
   "source": [
    "### Clean by Feature"
   ]
  },
  {
   "cell_type": "code",
   "execution_count": 504,
   "id": "7ecdd7ca",
   "metadata": {},
   "outputs": [
    {
     "data": {
      "text/html": [
       "<div>\n",
       "<style scoped>\n",
       "    .dataframe tbody tr th:only-of-type {\n",
       "        vertical-align: middle;\n",
       "    }\n",
       "\n",
       "    .dataframe tbody tr th {\n",
       "        vertical-align: top;\n",
       "    }\n",
       "\n",
       "    .dataframe thead th {\n",
       "        text-align: right;\n",
       "    }\n",
       "</style>\n",
       "<table border=\"1\" class=\"dataframe\">\n",
       "  <thead>\n",
       "    <tr style=\"text-align: right;\">\n",
       "      <th></th>\n",
       "      <th>Brand</th>\n",
       "      <th>Price</th>\n",
       "      <th>Processor_Name</th>\n",
       "      <th>Processor_Brand</th>\n",
       "      <th>RAM_Expandable</th>\n",
       "      <th>RAM</th>\n",
       "      <th>RAM_TYPE</th>\n",
       "      <th>Ghz</th>\n",
       "      <th>Display_type</th>\n",
       "      <th>Display</th>\n",
       "      <th>GPU</th>\n",
       "      <th>GPU_Brand</th>\n",
       "      <th>SSD</th>\n",
       "      <th>HDD</th>\n",
       "      <th>Adapter</th>\n",
       "      <th>Battery_Life</th>\n",
       "    </tr>\n",
       "  </thead>\n",
       "  <tbody>\n",
       "    <tr>\n",
       "      <th>0</th>\n",
       "      <td>HP</td>\n",
       "      <td>22990</td>\n",
       "      <td>MediaTek Octa-core</td>\n",
       "      <td>MediaTek</td>\n",
       "      <td>Not Expandable</td>\n",
       "      <td>4 GB</td>\n",
       "      <td>DDR4 RAM</td>\n",
       "      <td>2.0 Ghz Processor</td>\n",
       "      <td>LED</td>\n",
       "      <td>11.6</td>\n",
       "      <td>Integrated Graphics</td>\n",
       "      <td>MediaTek</td>\n",
       "      <td>64 GB SSD Storage</td>\n",
       "      <td>No HDD</td>\n",
       "      <td>45</td>\n",
       "      <td>Upto 12 Hrs Battery Life</td>\n",
       "    </tr>\n",
       "    <tr>\n",
       "      <th>1</th>\n",
       "      <td>Lenovo</td>\n",
       "      <td>36289</td>\n",
       "      <td>AMD Hexa-Core Ryzen 5</td>\n",
       "      <td>AMD</td>\n",
       "      <td>12 GB Expandable</td>\n",
       "      <td>8 GB</td>\n",
       "      <td>DDR4 RAM</td>\n",
       "      <td>4.0 Ghz Processor</td>\n",
       "      <td>LCD</td>\n",
       "      <td>15.6</td>\n",
       "      <td>Radeon</td>\n",
       "      <td>AMD</td>\n",
       "      <td>512 GB SSD Storage</td>\n",
       "      <td>No HDD</td>\n",
       "      <td>65</td>\n",
       "      <td>Upto 11 Hrs Battery Life</td>\n",
       "    </tr>\n",
       "    <tr>\n",
       "      <th>2</th>\n",
       "      <td>Dell</td>\n",
       "      <td>78500</td>\n",
       "      <td>Intel Core i5 (12th Gen)</td>\n",
       "      <td>Intel</td>\n",
       "      <td>32 GB Expandable</td>\n",
       "      <td>16 GB</td>\n",
       "      <td>DDR5 RAM</td>\n",
       "      <td>3.3 Ghz Processor</td>\n",
       "      <td>LCD</td>\n",
       "      <td>15.6</td>\n",
       "      <td>GeForce RTX 3050 GPU, 4 GB</td>\n",
       "      <td>NVIDIA</td>\n",
       "      <td>512 GB SSD Storage</td>\n",
       "      <td>No HDD</td>\n",
       "      <td>56</td>\n",
       "      <td>Upto 10 Hrs Battery Life</td>\n",
       "    </tr>\n",
       "    <tr>\n",
       "      <th>3</th>\n",
       "      <td>HP</td>\n",
       "      <td>55490</td>\n",
       "      <td>Intel Core i5 (12th Gen)</td>\n",
       "      <td>Intel</td>\n",
       "      <td>8 GB Expandable</td>\n",
       "      <td>8 GB</td>\n",
       "      <td>DDR4 RAM</td>\n",
       "      <td>4.2 Ghz Processor</td>\n",
       "      <td>LCD</td>\n",
       "      <td>15.6</td>\n",
       "      <td>Iris Xe</td>\n",
       "      <td>Intel</td>\n",
       "      <td>512 GB SSD Storage</td>\n",
       "      <td>No HDD</td>\n",
       "      <td>no</td>\n",
       "      <td>Upto 7.30 Hrs Battery Life</td>\n",
       "    </tr>\n",
       "    <tr>\n",
       "      <th>4</th>\n",
       "      <td>Infinix</td>\n",
       "      <td>21990</td>\n",
       "      <td>Intel Core i3 (11th Gen)</td>\n",
       "      <td>Intel</td>\n",
       "      <td>Not Expandable</td>\n",
       "      <td>8 GB LP</td>\n",
       "      <td>LPDDR4X RAM</td>\n",
       "      <td>1.7 Ghz Processor</td>\n",
       "      <td>LCD</td>\n",
       "      <td>15.6</td>\n",
       "      <td>UHD</td>\n",
       "      <td>Intel</td>\n",
       "      <td>512 GB SSD Storage</td>\n",
       "      <td>No HDD</td>\n",
       "      <td>45</td>\n",
       "      <td>Upto 8 Hrs Battery Life</td>\n",
       "    </tr>\n",
       "  </tbody>\n",
       "</table>\n",
       "</div>"
      ],
      "text/plain": [
       "     Brand  Price            Processor_Name Processor_Brand  \\\n",
       "0       HP  22990        MediaTek Octa-core        MediaTek   \n",
       "1   Lenovo  36289     AMD Hexa-Core Ryzen 5             AMD   \n",
       "2     Dell  78500  Intel Core i5 (12th Gen)           Intel   \n",
       "3       HP  55490  Intel Core i5 (12th Gen)           Intel   \n",
       "4  Infinix  21990  Intel Core i3 (11th Gen)           Intel   \n",
       "\n",
       "      RAM_Expandable      RAM      RAM_TYPE                 Ghz Display_type  \\\n",
       "0     Not Expandable    4 GB       DDR4 RAM   2.0 Ghz Processor          LED   \n",
       "1   12 GB Expandable    8 GB      DDR4 RAM    4.0 Ghz Processor          LCD   \n",
       "2   32 GB Expandable   16 GB      DDR5 RAM    3.3 Ghz Processor          LCD   \n",
       "3    8 GB Expandable    8 GB      DDR4 RAM    4.2 Ghz Processor          LCD   \n",
       "4     Not Expandable  8 GB LP   LPDDR4X RAM   1.7 Ghz Processor          LCD   \n",
       "\n",
       "  Display                         GPU GPU_Brand                 SSD     HDD  \\\n",
       "0   11.6          Integrated Graphics  MediaTek   64 GB SSD Storage  No HDD   \n",
       "1   15.6                       Radeon       AMD  512 GB SSD Storage  No HDD   \n",
       "2   15.6   GeForce RTX 3050 GPU, 4 GB    NVIDIA  512 GB SSD Storage  No HDD   \n",
       "3   15.6                      Iris Xe     Intel  512 GB SSD Storage  No HDD   \n",
       "4   15.6                          UHD     Intel  512 GB SSD Storage  No HDD   \n",
       "\n",
       "  Adapter                Battery_Life  \n",
       "0      45    Upto 12 Hrs Battery Life  \n",
       "1      65    Upto 11 Hrs Battery Life  \n",
       "2      56    Upto 10 Hrs Battery Life  \n",
       "3      no  Upto 7.30 Hrs Battery Life  \n",
       "4      45     Upto 8 Hrs Battery Life  "
      ]
     },
     "execution_count": 504,
     "metadata": {},
     "output_type": "execute_result"
    }
   ],
   "source": [
    "df.head()"
   ]
  },
  {
   "cell_type": "markdown",
   "id": "7979c8ba",
   "metadata": {},
   "source": [
    "#### Brand"
   ]
  },
  {
   "cell_type": "code",
   "execution_count": 505,
   "id": "1edbe28c",
   "metadata": {},
   "outputs": [
    {
     "name": "stdout",
     "output_type": "stream",
     "text": [
      "Brand Unique Values: 31\n",
      "Missing Brand values: 0\n",
      "Brand\n",
      "ASUS         976\n",
      "Lenovo       808\n",
      "HP           799\n",
      "Dell         420\n",
      "Acer         317\n",
      "MSI          316\n",
      "Samsung       61\n",
      "Apple         48\n",
      "Infinix       39\n",
      "Microsoft     33\n",
      "AVITA         23\n",
      "Gigabyte      17\n",
      "LG            15\n",
      "Honor         14\n",
      "iball         11\n",
      "Xiaomi        10\n",
      "Fujitsu        8\n",
      "Zebronics      8\n",
      "Wings          4\n",
      "Colorful       3\n",
      "Realme         3\n",
      "Micromax       3\n",
      "Coconics       3\n",
      "Tecno          2\n",
      "Smartron       2\n",
      "Huawei         1\n",
      "Razer          1\n",
      "VAIO           1\n",
      "Lava           1\n",
      "Nokia          1\n",
      "RDP            1\n",
      "Name: count, dtype: int64\n"
     ]
    }
   ],
   "source": [
    "print(\"Brand Unique Values:\", df['Brand'].nunique())\n",
    "print(\"Missing Brand values:\", df['Brand'].isna().sum())\n",
    "print(df['Brand'].value_counts())"
   ]
  },
  {
   "cell_type": "code",
   "execution_count": 506,
   "id": "77df3a1e",
   "metadata": {},
   "outputs": [],
   "source": [
    "# Here I can consider low quantity brands as \"Other\" category\n",
    "top_brands = ['ASUS', 'Lenovo', 'HP', 'Dell', 'Acer', 'MSI']\n",
    "df['Brand'] = df['Brand'].apply(lambda x: x if x in top_brands else 'Other')\n"
   ]
  },
  {
   "cell_type": "code",
   "execution_count": 507,
   "id": "ede88b34",
   "metadata": {},
   "outputs": [
    {
     "name": "stdout",
     "output_type": "stream",
     "text": [
      "Brand\n",
      "ASUS      976\n",
      "Lenovo    808\n",
      "HP        799\n",
      "Dell      420\n",
      "Acer      317\n",
      "MSI       316\n",
      "Other     313\n",
      "Name: count, dtype: int64\n"
     ]
    }
   ],
   "source": [
    "print(df['Brand'].value_counts())"
   ]
  },
  {
   "cell_type": "markdown",
   "id": "c0bc538a",
   "metadata": {},
   "source": [
    "#### Price\n"
   ]
  },
  {
   "cell_type": "code",
   "execution_count": 508,
   "id": "543b8bb9",
   "metadata": {},
   "outputs": [
    {
     "data": {
      "text/plain": [
       "(3949, 16)"
      ]
     },
     "execution_count": 508,
     "metadata": {},
     "output_type": "execute_result"
    }
   ],
   "source": [
    "df.shape"
   ]
  },
  {
   "cell_type": "code",
   "execution_count": 509,
   "id": "8f244826",
   "metadata": {},
   "outputs": [
    {
     "name": "stdout",
     "output_type": "stream",
     "text": [
      "Price Unique Values: 1799\n",
      "Missing Price values: 0\n",
      "Price\n",
      "64990     40\n",
      "49990     38\n",
      "79990     38\n",
      "34990     37\n",
      "42990     36\n",
      "          ..\n",
      "48890      1\n",
      "74390      1\n",
      "51891      1\n",
      "112980     1\n",
      "36289      1\n",
      "Name: count, Length: 1799, dtype: int64\n",
      "False\n"
     ]
    }
   ],
   "source": [
    "print(\"Price Unique Values:\", df['Price'].nunique())\n",
    "print(\"Missing Price values:\", df['Price'].isna().sum())\n",
    "print(df['Price'].value_counts())\n",
    "print((df['Price'] == 0).any())    "
   ]
  },
  {
   "cell_type": "code",
   "execution_count": 510,
   "id": "6c26b3b3",
   "metadata": {},
   "outputs": [
    {
     "data": {
      "image/png": "[encoded data removed]",
      "text/plain": [
       "<Figure size 1400x600 with 2 Axes>"
      ]
     },
     "metadata": {},
     "output_type": "display_data"
    }
   ],
   "source": [
    "\n",
    "fig, axes = plt.subplots(1, 2, figsize=(14, 6))\n",
    "\n",
    "mean_price = df['Price'].mean()\n",
    "sns.histplot(df['Price'], kde=True, ax=axes[0])\n",
    "axes[0].set_title('Distribution of Laptop Prices')\n",
    "\n",
    "sns.boxplot(data=df, y='Price', ax=axes[1])\n",
    "axes[1].set_title('Laptop Pricing Spread')\n",
    "axes[1].set_ylabel('Price')\n",
    "\n",
    "axes[1].axhline(mean_price, color='red', linestyle=':', linewidth=1, label='Mean')\n",
    "axes[1].legend()\n",
    "\n",
    "plt.tight_layout()\n",
    "plt.show()"
   ]
  },
  {
   "cell_type": "markdown",
   "id": "6113148f",
   "metadata": {},
   "source": [
    "##### Removing Outliars ( Not Finalized)"
   ]
  },
  {
   "cell_type": "code",
   "execution_count": 511,
   "id": "8a4e7bda",
   "metadata": {},
   "outputs": [],
   "source": [
    "Q1 = df['Price'].quantile(0.25)\n",
    "Q3 = df['Price'].quantile(0.75)\n",
    "IQR = Q3 - Q1\n",
    "\n",
    "lower_bound = Q1 - 1.5 * IQR\n",
    "upper_bound = Q3 + 1.5 * IQR\n",
    "\n",
    "df = df[(df['Price'] >= lower_bound) & (df['Price'] <= upper_bound)]\n"
   ]
  },
  {
   "cell_type": "code",
   "execution_count": 512,
   "id": "a1f99f5c",
   "metadata": {},
   "outputs": [
    {
     "data": {
      "text/plain": [
       "(3670, 16)"
      ]
     },
     "execution_count": 512,
     "metadata": {},
     "output_type": "execute_result"
    }
   ],
   "source": [
    "df.shape"
   ]
  },
  {
   "cell_type": "markdown",
   "id": "911018ab",
   "metadata": {},
   "source": [
    "##### Converting IND RS to LKR"
   ]
  },
  {
   "cell_type": "code",
   "execution_count": 513,
   "id": "ec5486f8",
   "metadata": {},
   "outputs": [],
   "source": [
    "df['Price'] = df['Price'] * 3.5 # Get Average Exchange Rate"
   ]
  },
  {
   "cell_type": "code",
   "execution_count": 514,
   "id": "fe008d8c",
   "metadata": {},
   "outputs": [
    {
     "data": {
      "image/png": "[encoded data removed]",
      "text/plain": [
       "<Figure size 1400x600 with 2 Axes>"
      ]
     },
     "metadata": {},
     "output_type": "display_data"
    }
   ],
   "source": [
    "\n",
    "fig, axes = plt.subplots(1, 2, figsize=(14, 6))\n",
    "\n",
    "mean_price = df['Price'].mean()\n",
    "sns.histplot(df['Price'], kde=True, ax=axes[0])\n",
    "axes[0].set_title('Distribution of Laptop Prices')\n",
    "\n",
    "sns.boxplot(data=df, y='Price', ax=axes[1])\n",
    "axes[1].set_title('Laptop Pricing Spread')\n",
    "axes[1].set_ylabel('Price')\n",
    "\n",
    "axes[1].axhline(mean_price, color='red', linestyle=':', linewidth=1, label='Mean')\n",
    "axes[1].legend()\n",
    "\n",
    "plt.tight_layout()\n",
    "plt.show()"
   ]
  },
  {
   "cell_type": "code",
   "execution_count": 515,
   "id": "eaab3eff",
   "metadata": {},
   "outputs": [
    {
     "data": {
      "text/plain": [
       "(3670, 16)"
      ]
     },
     "execution_count": 515,
     "metadata": {},
     "output_type": "execute_result"
    }
   ],
   "source": [
    "df.shape"
   ]
  },
  {
   "cell_type": "code",
   "execution_count": 516,
   "id": "621c8dc4",
   "metadata": {},
   "outputs": [
    {
     "name": "stdout",
     "output_type": "stream",
     "text": [
      "Brand\n",
      "ASUS      889\n",
      "Lenovo    772\n",
      "HP        766\n",
      "Dell      399\n",
      "Acer      310\n",
      "Other     271\n",
      "MSI       263\n",
      "Name: count, dtype: int64\n"
     ]
    }
   ],
   "source": [
    "print(df['Brand'].value_counts())"
   ]
  },
  {
   "cell_type": "markdown",
   "id": "10589f53",
   "metadata": {},
   "source": [
    "#### Processor Brand"
   ]
  },
  {
   "cell_type": "code",
   "execution_count": 517,
   "id": "2b4fbbbc",
   "metadata": {},
   "outputs": [
    {
     "name": "stdout",
     "output_type": "stream",
     "text": [
      "Processor_Brand Unique Values: 17\n",
      "Missing Processor_Brand values: 0\n"
     ]
    },
    {
     "data": {
      "text/plain": [
       "Processor_Brand\n",
       "Intel        2754\n",
       "AMD           880\n",
       "Apple          11\n",
       "MediaTek        4\n",
       "1.7             4\n",
       "2.4             2\n",
       "2.0             2\n",
       "3.0             2\n",
       "3.4             2\n",
       "2.1             2\n",
       "1.6             1\n",
       "Qualcomm        1\n",
       "3.3             1\n",
       "2.2             1\n",
       "1.8             1\n",
       "Microsoft       1\n",
       "1.9             1\n",
       "Name: count, dtype: int64"
      ]
     },
     "execution_count": 517,
     "metadata": {},
     "output_type": "execute_result"
    }
   ],
   "source": [
    "print(\"Processor_Brand Unique Values:\", df['Processor_Brand'].nunique())\n",
    "print(\"Missing Processor_Brand values:\", df['Processor_Brand'].isna().sum())\n",
    "df['Processor_Brand'].value_counts()"
   ]
  },
  {
   "cell_type": "markdown",
   "id": "a7f2a7cf",
   "metadata": {},
   "source": [
    "* Some Processors_Brands names have Ghz speeds as a wrong input. So we can remove those values.\n"
   ]
  },
  {
   "cell_type": "code",
   "execution_count": 518,
   "id": "4d805a73",
   "metadata": {},
   "outputs": [
    {
     "data": {
      "text/plain": [
       "<bound method Series.info of 0       MediaTek\n",
       "1            AMD\n",
       "2          Intel\n",
       "3          Intel\n",
       "4          Intel\n",
       "          ...   \n",
       "3971       Intel\n",
       "3972       Intel\n",
       "3973         AMD\n",
       "3974         AMD\n",
       "3975       Intel\n",
       "Name: Processor_Brand, Length: 3670, dtype: object>"
      ]
     },
     "execution_count": 518,
     "metadata": {},
     "output_type": "execute_result"
    }
   ],
   "source": [
    "# Here only consider Intel and AMD\n",
    "df['Processor_Brand'].info"
   ]
  },
  {
   "cell_type": "code",
   "execution_count": 519,
   "id": "41abcb42",
   "metadata": {},
   "outputs": [
    {
     "data": {
      "text/plain": [
       "(3670, 16)"
      ]
     },
     "execution_count": 519,
     "metadata": {},
     "output_type": "execute_result"
    }
   ],
   "source": [
    "df.shape"
   ]
  },
  {
   "cell_type": "code",
   "execution_count": 520,
   "id": "676fe422",
   "metadata": {},
   "outputs": [],
   "source": [
    "valid_processors = ['Intel', 'AMD', 'Apple', 'MediaTek', 'Qualcomm', 'Microsoft']\n",
    "df = df[df['Processor_Brand'].isin(valid_processors)]"
   ]
  },
  {
   "cell_type": "code",
   "execution_count": 521,
   "id": "c869f7cf",
   "metadata": {},
   "outputs": [
    {
     "data": {
      "text/plain": [
       "(3651, 16)"
      ]
     },
     "execution_count": 521,
     "metadata": {},
     "output_type": "execute_result"
    }
   ],
   "source": [
    "df.shape"
   ]
  },
  {
   "cell_type": "code",
   "execution_count": 522,
   "id": "ed8acfc8",
   "metadata": {},
   "outputs": [
    {
     "data": {
      "text/plain": [
       "Processor_Brand\n",
       "Intel        2754\n",
       "AMD           880\n",
       "Apple          11\n",
       "MediaTek        4\n",
       "Qualcomm        1\n",
       "Microsoft       1\n",
       "Name: count, dtype: int64"
      ]
     },
     "execution_count": 522,
     "metadata": {},
     "output_type": "execute_result"
    }
   ],
   "source": [
    "df['Processor_Brand'].value_counts()"
   ]
  },
  {
   "cell_type": "code",
   "execution_count": 523,
   "id": "898c4084",
   "metadata": {},
   "outputs": [
    {
     "data": {
      "image/png": "[encoded data removed]",
      "text/plain": [
       "<Figure size 1500x600 with 1 Axes>"
      ]
     },
     "metadata": {},
     "output_type": "display_data"
    }
   ],
   "source": [
    "plt.figure(figsize=(15, 6))\n",
    "sns.countplot(data=df, x='Processor_Brand', hue='Processor_Brand', palette='Set2')\n",
    "plt.xticks(rotation=45)\n",
    "plt.title(\"Processor Brands Count\")\n",
    "plt.show()"
   ]
  },
  {
   "cell_type": "code",
   "execution_count": 524,
   "id": "5d400d73",
   "metadata": {},
   "outputs": [
    {
     "name": "stdout",
     "output_type": "stream",
     "text": [
      "Processor_Brand\n",
      "Intel        75.431389\n",
      "AMD          24.102985\n",
      "Apple         0.301287\n",
      "MediaTek      0.109559\n",
      "Qualcomm      0.027390\n",
      "Microsoft     0.027390\n",
      "Name: proportion, dtype: float64\n"
     ]
    }
   ],
   "source": [
    "print(df['Processor_Brand'].value_counts(normalize=True) * 100)"
   ]
  },
  {
   "cell_type": "markdown",
   "id": "bdf6f3e5",
   "metadata": {},
   "source": [
    "* Intel and AMD are the prominant. reset can be ignore/drop "
   ]
  },
  {
   "cell_type": "code",
   "execution_count": 525,
   "id": "e4bbafda",
   "metadata": {},
   "outputs": [
    {
     "name": "stdout",
     "output_type": "stream",
     "text": [
      "(3651, 16)\n",
      "(3634, 16)\n"
     ]
    },
    {
     "data": {
      "text/plain": [
       "Processor_Brand\n",
       "Intel    2754\n",
       "AMD       880\n",
       "Name: count, dtype: int64"
      ]
     },
     "execution_count": 525,
     "metadata": {},
     "output_type": "execute_result"
    }
   ],
   "source": [
    "print(df.shape)\n",
    "top_processor = ['Intel', 'AMD']\n",
    "df = df[df['Processor_Brand'].isin(top_processor)]\n",
    "print(df.shape)\n",
    "df['Processor_Brand'].value_counts()"
   ]
  },
  {
   "cell_type": "markdown",
   "id": "2f694828",
   "metadata": {},
   "source": [
    "#### RAM"
   ]
  },
  {
   "cell_type": "code",
   "execution_count": 526,
   "id": "4dc1408b",
   "metadata": {},
   "outputs": [
    {
     "name": "stdout",
     "output_type": "stream",
     "text": [
      "RAM Unique Values: 16\n",
      "Missing RAM values: 0\n"
     ]
    },
    {
     "data": {
      "text/plain": [
       "RAM\n",
       "8 GB          1596\n",
       "16 GB          970\n",
       "4 GB           534\n",
       "16 GB LP       253\n",
       "8 GB LP        172\n",
       "4 GB LP         33\n",
       "2 GB            22\n",
       "32 GB LP        21\n",
       "16 GB RAM       10\n",
       "32 GB            7\n",
       "8 GB RAM         6\n",
       "12 GB            4\n",
       "16 GB RAM        2\n",
       "3 GB             2\n",
       "24 GB            1\n",
       "6 GB             1\n",
       "Name: count, dtype: int64"
      ]
     },
     "execution_count": 526,
     "metadata": {},
     "output_type": "execute_result"
    }
   ],
   "source": [
    "print(\"RAM Unique Values:\", df['RAM'].nunique())\n",
    "print(\"Missing RAM values:\", df['RAM'].isna().sum())\n",
    "df['RAM'].value_counts()"
   ]
  },
  {
   "cell_type": "code",
   "execution_count": 527,
   "id": "68210f38",
   "metadata": {},
   "outputs": [
    {
     "data": {
      "text/plain": [
       "(3634, 16)"
      ]
     },
     "execution_count": 527,
     "metadata": {},
     "output_type": "execute_result"
    }
   ],
   "source": [
    "df.shape"
   ]
  },
  {
   "cell_type": "code",
   "execution_count": 528,
   "id": "4b6209b5",
   "metadata": {},
   "outputs": [],
   "source": [
    "df['RAM'] = df['RAM'].str.replace('RAM', '', regex=False)\n",
    "df['RAM'] = df['RAM'].str.replace('LP', '', regex=False)\n",
    "df['RAM'] = df['RAM'].str.replace('GB', '', regex=False)\n",
    "df['RAM'] = df['RAM'].str.strip().astype(int)"
   ]
  },
  {
   "cell_type": "code",
   "execution_count": 529,
   "id": "ac35901f",
   "metadata": {},
   "outputs": [
    {
     "data": {
      "text/plain": [
       "RAM\n",
       "8     1774\n",
       "16    1235\n",
       "4      567\n",
       "32      28\n",
       "2       22\n",
       "12       4\n",
       "3        2\n",
       "24       1\n",
       "6        1\n",
       "Name: count, dtype: int64"
      ]
     },
     "execution_count": 529,
     "metadata": {},
     "output_type": "execute_result"
    }
   ],
   "source": [
    "df['RAM'].value_counts()"
   ]
  },
  {
   "cell_type": "code",
   "execution_count": 530,
   "id": "a7b48e27",
   "metadata": {},
   "outputs": [
    {
     "data": {
      "image/png": "[encoded data removed]",
      "text/plain": [
       "<Figure size 1500x600 with 1 Axes>"
      ]
     },
     "metadata": {},
     "output_type": "display_data"
    }
   ],
   "source": [
    "plt.figure(figsize=(15, 6))\n",
    "sns.countplot(data=df, x='RAM', hue='RAM', palette='Set2')\n",
    "plt.xticks(rotation=45)\n",
    "plt.title(\"RAM Size Distribution\")\n",
    "plt.show()"
   ]
  },
  {
   "cell_type": "code",
   "execution_count": 531,
   "id": "84fc4e41",
   "metadata": {},
   "outputs": [
    {
     "data": {
      "text/plain": [
       "(3604, 16)"
      ]
     },
     "execution_count": 531,
     "metadata": {},
     "output_type": "execute_result"
    }
   ],
   "source": [
    "standard_ram_sizes = [4, 8, 16, 32]\n",
    "df = df[df['RAM'].isin(standard_ram_sizes)]\n",
    "df.shape"
   ]
  },
  {
   "cell_type": "code",
   "execution_count": 532,
   "id": "c2f639bb",
   "metadata": {},
   "outputs": [
    {
     "data": {
      "text/plain": [
       "RAM\n",
       "8     1774\n",
       "16    1235\n",
       "4      567\n",
       "32      28\n",
       "Name: count, dtype: int64"
      ]
     },
     "execution_count": 532,
     "metadata": {},
     "output_type": "execute_result"
    }
   ],
   "source": [
    "df['RAM'].value_counts()"
   ]
  },
  {
   "cell_type": "code",
   "execution_count": 533,
   "id": "dc6fc1f3",
   "metadata": {},
   "outputs": [
    {
     "data": {
      "image/png": "[encoded data removed]",
      "text/plain": [
       "<Figure size 1500x600 with 1 Axes>"
      ]
     },
     "metadata": {},
     "output_type": "display_data"
    }
   ],
   "source": [
    "plt.figure(figsize=(15, 6))\n",
    "sns.countplot(data=df, x='RAM', hue='RAM', palette='Set2')\n",
    "plt.xticks(rotation=45)\n",
    "plt.title(\"RAM Size Distribution\")\n",
    "plt.show()"
   ]
  },
  {
   "cell_type": "markdown",
   "id": "33ffb1cd",
   "metadata": {},
   "source": [
    "#### RAM Type"
   ]
  },
  {
   "cell_type": "code",
   "execution_count": 534,
   "id": "a462e4cf",
   "metadata": {},
   "outputs": [
    {
     "name": "stdout",
     "output_type": "stream",
     "text": [
      "RAM_TYPE Unique Values: 19\n",
      "Missing RAM_TYPE values: 0\n"
     ]
    },
    {
     "data": {
      "text/plain": [
       "RAM_TYPE\n",
       "DDR4 RAM        1454\n",
       "DDR4 RAM        1272\n",
       "DDR5 RAM         170\n",
       "LPDDR4X RAM      118\n",
       "LPDDR5 RAM       118\n",
       "DDR5 RAM          91\n",
       "LPDDR5 RAM        88\n",
       "DDR3 RAM          67\n",
       "DDR3 RAM          52\n",
       "LPDDR3 RAM        43\n",
       "LPDDR4X RAM       31\n",
       "LPDDR5X RAM       28\n",
       "LPDDR4 RAM        25\n",
       "LPDDR5X RAM       20\n",
       "RAM               16\n",
       "LPDDR4 RAM         6\n",
       "RAM                2\n",
       "LPDDR3 RAM         2\n",
       "DDR2 RAM           1\n",
       "Name: count, dtype: int64"
      ]
     },
     "execution_count": 534,
     "metadata": {},
     "output_type": "execute_result"
    }
   ],
   "source": [
    "print(\"RAM_TYPE Unique Values:\", df['RAM_TYPE'].nunique())\n",
    "print(\"Missing RAM_TYPE values:\", df['RAM_TYPE'].isna().sum())\n",
    "df['RAM_TYPE'].value_counts()"
   ]
  },
  {
   "cell_type": "code",
   "execution_count": 535,
   "id": "73e3d87b",
   "metadata": {},
   "outputs": [
    {
     "data": {
      "text/plain": [
       "(3604, 16)"
      ]
     },
     "execution_count": 535,
     "metadata": {},
     "output_type": "execute_result"
    }
   ],
   "source": [
    "df.shape"
   ]
  },
  {
   "cell_type": "code",
   "execution_count": null,
   "id": "5fcf762d",
   "metadata": {},
   "outputs": [],
   "source": [
    "\n",
    "df['RAM_TYPE'] = (\n",
    "    df['RAM_TYPE']\n",
    "    .astype(str)\n",
    "    .str.upper()                             \n",
    "    .str.replace(r'\\s+', ' ', regex=True)    \n",
    "    .str.strip()                            \n",
    ")\n",
    "\n",
    "\n",
    "df = df[df['RAM_TYPE'] != 'RAM']\n",
    "\n",
    "\n",
    "df['RAM_TYPE'] = df['RAM_TYPE'].replace({\n",
    "    'DDR4 RAM': 'DDR4',\n",
    "    'LPDDR4 RAM': 'DDR4',\n",
    "    'LPDDR4X RAM': 'DDR4',\n",
    "\n",
    "    'DDR5 RAM': 'DDR5',\n",
    "    'LPDDR5 RAM': 'DDR5',\n",
    "    'LPDDR5X RAM': 'DDR5',\n",
    "\n",
    "    'DDR3 RAM': 'DDR3',\n",
    "    'LPDDR3 RAM': 'DDR3',\n",
    "\n",
    "    'DDR2 RAM': 'DDR2'\n",
    "})\n"
   ]
  },
  {
   "cell_type": "code",
   "execution_count": 537,
   "id": "45d18e3c",
   "metadata": {},
   "outputs": [
    {
     "data": {
      "text/plain": [
       "(3586, 16)"
      ]
     },
     "execution_count": 537,
     "metadata": {},
     "output_type": "execute_result"
    }
   ],
   "source": [
    "df.shape"
   ]
  },
  {
   "cell_type": "code",
   "execution_count": 538,
   "id": "77153a93",
   "metadata": {},
   "outputs": [
    {
     "data": {
      "text/plain": [
       "RAM_TYPE\n",
       "DDR4    2906\n",
       "DDR5     515\n",
       "DDR3     164\n",
       "DDR2       1\n",
       "Name: count, dtype: int64"
      ]
     },
     "execution_count": 538,
     "metadata": {},
     "output_type": "execute_result"
    }
   ],
   "source": [
    "df['RAM_TYPE'].value_counts()"
   ]
  },
  {
   "cell_type": "code",
   "execution_count": 542,
   "id": "667ee4b3",
   "metadata": {},
   "outputs": [
    {
     "data": {
      "text/plain": [
       "RAM_TYPE\n",
       "DDR4    2906\n",
       "DDR5     515\n",
       "DDR3     164\n",
       "Name: count, dtype: int64"
      ]
     },
     "execution_count": 542,
     "metadata": {},
     "output_type": "execute_result"
    }
   ],
   "source": [
    "df = df[df['RAM_TYPE'] != 'DDR2']\n",
    "df['RAM_TYPE'].value_counts()"
   ]
  },
  {
   "cell_type": "code",
   "execution_count": 543,
   "id": "b45d083f",
   "metadata": {},
   "outputs": [
    {
     "data": {
      "image/png": "[encoded data removed]",
      "text/plain": [
       "<Figure size 1500x600 with 1 Axes>"
      ]
     },
     "metadata": {},
     "output_type": "display_data"
    }
   ],
   "source": [
    "plt.figure(figsize=(15, 6))\n",
    "sns.countplot(data=df, x='RAM_TYPE', hue='RAM_TYPE', palette='Set2')\n",
    "plt.xticks(rotation=45)\n",
    "plt.title(\"RAM Type Distribution\")\n",
    "plt.show()"
   ]
  },
  {
   "cell_type": "code",
   "execution_count": null,
   "id": "4a466115",
   "metadata": {},
   "outputs": [],
   "source": []
  }
 ],
 "metadata": {
  "kernelspec": {
   "display_name": "Python (Laptop Predictor)",
   "language": "python",
   "name": "laptop-predictor"
  },
  "language_info": {
   "codemirror_mode": {
    "name": "ipython",
    "version": 3
   },
   "file_extension": ".py",
   "mimetype": "text/x-python",
   "name": "python",
   "nbconvert_exporter": "python",
   "pygments_lexer": "ipython3",
   "version": "3.11.13"
  }
 },
 "nbformat": 4,
 "nbformat_minor": 5
}
